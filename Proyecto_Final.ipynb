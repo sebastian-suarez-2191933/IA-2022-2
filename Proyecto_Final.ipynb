{
  "nbformat": 4,
  "nbformat_minor": 0,
  "metadata": {
    "colab": {
      "provenance": []
    },
    "kernelspec": {
      "name": "python3",
      "display_name": "Python 3"
    },
    "language_info": {
      "name": "python"
    }
  },
  "cells": [
    {
      "cell_type": "markdown",
      "source": [
        "# <center> Predicción de compra por cliente a partir de cotizaciones de una empresa </center>\n",
        "<center> <img src=\"https://github.com/Minerisho/Proyecto-AI1-2022-2/blob/main/Banner.jpg?raw=true\" width=\"800px\" height=\"300px\"> </center>\n",
        "<center>Miguel Ángel Plata Rodríguez </center>\n",
        "<center>Adriana Marcela Cujia Reyes </center>\n",
        "<center>Sebastían Suarez </center>\n",
        "\n",
        "\n",
        "\n",
        "\n",
        "1.   [Tratamiento del Dataset](#Df)\n",
        "2.   [DTR](#DTR) \n",
        "3.   [RFR](#RFR)\n",
        "4.   [SVR](#SVR)\n",
        "\n",
        "\n"
      ],
      "metadata": {
        "id": "-8kN_y6UCzx2"
      }
    },
    {
      "cell_type": "markdown",
      "source": [
        "## Librerias y conexión a Drive"
      ],
      "metadata": {
        "id": "ALSIL_J72W3b"
      }
    },
    {
      "cell_type": "code",
      "execution_count": 1,
      "metadata": {
        "id": "_vhCd-JlKP3I"
      },
      "outputs": [],
      "source": [
        "import numpy as np\n",
        "import pandas as pd\n",
        "import matplotlib.pyplot as plt\n",
        "import scipy.stats as stats\n",
        "import seaborn as sns\n",
        "from sklearn.model_selection import KFold\n",
        "from sklearn.metrics import *\n",
        "import os\n",
        "from google.colab import drive\n"
      ]
    },
    {
      "cell_type": "code",
      "source": [
        "path_ai = \"ProyectoIA\"\n",
        "path = \"/content/drive/My Drive/\" + path_ai\n",
        "drive.mount('/content/drive')\n",
        "os.chdir(path)\n",
        "print(os.getcwd())\n"
      ],
      "metadata": {
        "id": "0d_pZLCMrnC0",
        "colab": {
          "base_uri": "https://localhost:8080/"
        },
        "outputId": "2cc7b85e-bca7-47cf-b1c3-fe7c41292048"
      },
      "execution_count": 2,
      "outputs": [
        {
          "output_type": "stream",
          "name": "stdout",
          "text": [
            "Mounted at /content/drive\n",
            "/content/drive/My Drive/ProyectoIA\n"
          ]
        }
      ]
    },
    {
      "cell_type": "code",
      "source": [
        "df = pd.read_excel('DataFrames/prueba/df100.xls')\n",
        "df.head(200)\n"
      ],
      "metadata": {
        "id": "em2jYNX4reI8",
        "colab": {
          "base_uri": "https://localhost:8080/",
          "height": 424
        },
        "outputId": "1555d7d2-ba97-44f4-aa8e-6c37ff1fb3fd"
      },
      "execution_count": 3,
      "outputs": [
        {
          "output_type": "execute_result",
          "data": {
            "text/plain": [
              "    N_Cot                 Cliente      Fecha  N_Productos_Total  Capacitacion  \\\n",
              "0     751         Eduardo Ramirez 2016-05-03                  2         False   \n",
              "1     752          DAR Soluciones 2016-05-03                  2         False   \n",
              "2     753          Paola Buitrago 2016-05-04                  3          True   \n",
              "3     754    BPM Global Solutions 2016-05-04                  6          True   \n",
              "4     755           Diego Salazar 2016-05-05                  2          True   \n",
              "..    ...                     ...        ...                ...           ...   \n",
              "95    847        Victor Melgarejo 2016-07-14                  1          True   \n",
              "96    848  Solutions Group S.A.S. 2016-07-14                  2         False   \n",
              "97    849               Analytica 2016-07-15                  8          True   \n",
              "98    850    John Fredy Rodríguez 2016-07-16                  2          True   \n",
              "99    851    John Fredy Rodríguez 2016-07-18                  2          True   \n",
              "\n",
              "        V_Total  Descuento                                           document  \n",
              "0     273760.00      False      Cotización 751 -Eduardo Ramirez- (PLA) 2.85mm  \n",
              "1    6641000.00      False          Cotización 752 - DAR Soluciones (PLA-ABS)  \n",
              "2    3089520.00      False  Cotización 753 - Paola Buitrago - Micro + insumos  \n",
              "3   24831784.00       True  Cotización 754 -BPM Global Solutions- Makerbot...  \n",
              "4   21451000.00       True  Cotización 755 -Diego Salazar- Scanners 3D (Fu...  \n",
              "..          ...        ...                                                ...  \n",
              "95  16400000.00      False  Cotización 847 - Victor Melgarejo - Leapfrg Cr...  \n",
              "96   2025360.00      False     Cotización 848 - Solutions - Mantenimiento Z18  \n",
              "97  40901725.42       True  Cotización 849 - Universidad Colegio Mayor  F2...  \n",
              "98  17645694.00       True     Cotización 850 - John Rodriguez - U2+ EXTENDED  \n",
              "99  13310920.00       True              Cotización 851 - John Rodriguez - U2+  \n",
              "\n",
              "[100 rows x 8 columns]"
            ],
            "text/html": [
              "\n",
              "  <div id=\"df-ae9a19c7-8b40-488f-b87b-0896808a001e\">\n",
              "    <div class=\"colab-df-container\">\n",
              "      <div>\n",
              "<style scoped>\n",
              "    .dataframe tbody tr th:only-of-type {\n",
              "        vertical-align: middle;\n",
              "    }\n",
              "\n",
              "    .dataframe tbody tr th {\n",
              "        vertical-align: top;\n",
              "    }\n",
              "\n",
              "    .dataframe thead th {\n",
              "        text-align: right;\n",
              "    }\n",
              "</style>\n",
              "<table border=\"1\" class=\"dataframe\">\n",
              "  <thead>\n",
              "    <tr style=\"text-align: right;\">\n",
              "      <th></th>\n",
              "      <th>N_Cot</th>\n",
              "      <th>Cliente</th>\n",
              "      <th>Fecha</th>\n",
              "      <th>N_Productos_Total</th>\n",
              "      <th>Capacitacion</th>\n",
              "      <th>V_Total</th>\n",
              "      <th>Descuento</th>\n",
              "      <th>document</th>\n",
              "    </tr>\n",
              "  </thead>\n",
              "  <tbody>\n",
              "    <tr>\n",
              "      <th>0</th>\n",
              "      <td>751</td>\n",
              "      <td>Eduardo Ramirez</td>\n",
              "      <td>2016-05-03</td>\n",
              "      <td>2</td>\n",
              "      <td>False</td>\n",
              "      <td>273760.00</td>\n",
              "      <td>False</td>\n",
              "      <td>Cotización 751 -Eduardo Ramirez- (PLA) 2.85mm</td>\n",
              "    </tr>\n",
              "    <tr>\n",
              "      <th>1</th>\n",
              "      <td>752</td>\n",
              "      <td>DAR Soluciones</td>\n",
              "      <td>2016-05-03</td>\n",
              "      <td>2</td>\n",
              "      <td>False</td>\n",
              "      <td>6641000.00</td>\n",
              "      <td>False</td>\n",
              "      <td>Cotización 752 - DAR Soluciones (PLA-ABS)</td>\n",
              "    </tr>\n",
              "    <tr>\n",
              "      <th>2</th>\n",
              "      <td>753</td>\n",
              "      <td>Paola Buitrago</td>\n",
              "      <td>2016-05-04</td>\n",
              "      <td>3</td>\n",
              "      <td>True</td>\n",
              "      <td>3089520.00</td>\n",
              "      <td>False</td>\n",
              "      <td>Cotización 753 - Paola Buitrago - Micro + insumos</td>\n",
              "    </tr>\n",
              "    <tr>\n",
              "      <th>3</th>\n",
              "      <td>754</td>\n",
              "      <td>BPM Global Solutions</td>\n",
              "      <td>2016-05-04</td>\n",
              "      <td>6</td>\n",
              "      <td>True</td>\n",
              "      <td>24831784.00</td>\n",
              "      <td>True</td>\n",
              "      <td>Cotización 754 -BPM Global Solutions- Makerbot...</td>\n",
              "    </tr>\n",
              "    <tr>\n",
              "      <th>4</th>\n",
              "      <td>755</td>\n",
              "      <td>Diego Salazar</td>\n",
              "      <td>2016-05-05</td>\n",
              "      <td>2</td>\n",
              "      <td>True</td>\n",
              "      <td>21451000.00</td>\n",
              "      <td>True</td>\n",
              "      <td>Cotización 755 -Diego Salazar- Scanners 3D (Fu...</td>\n",
              "    </tr>\n",
              "    <tr>\n",
              "      <th>...</th>\n",
              "      <td>...</td>\n",
              "      <td>...</td>\n",
              "      <td>...</td>\n",
              "      <td>...</td>\n",
              "      <td>...</td>\n",
              "      <td>...</td>\n",
              "      <td>...</td>\n",
              "      <td>...</td>\n",
              "    </tr>\n",
              "    <tr>\n",
              "      <th>95</th>\n",
              "      <td>847</td>\n",
              "      <td>Victor Melgarejo</td>\n",
              "      <td>2016-07-14</td>\n",
              "      <td>1</td>\n",
              "      <td>True</td>\n",
              "      <td>16400000.00</td>\n",
              "      <td>False</td>\n",
              "      <td>Cotización 847 - Victor Melgarejo - Leapfrg Cr...</td>\n",
              "    </tr>\n",
              "    <tr>\n",
              "      <th>96</th>\n",
              "      <td>848</td>\n",
              "      <td>Solutions Group S.A.S.</td>\n",
              "      <td>2016-07-14</td>\n",
              "      <td>2</td>\n",
              "      <td>False</td>\n",
              "      <td>2025360.00</td>\n",
              "      <td>False</td>\n",
              "      <td>Cotización 848 - Solutions - Mantenimiento Z18</td>\n",
              "    </tr>\n",
              "    <tr>\n",
              "      <th>97</th>\n",
              "      <td>849</td>\n",
              "      <td>Analytica</td>\n",
              "      <td>2016-07-15</td>\n",
              "      <td>8</td>\n",
              "      <td>True</td>\n",
              "      <td>40901725.42</td>\n",
              "      <td>True</td>\n",
              "      <td>Cotización 849 - Universidad Colegio Mayor  F2...</td>\n",
              "    </tr>\n",
              "    <tr>\n",
              "      <th>98</th>\n",
              "      <td>850</td>\n",
              "      <td>John Fredy Rodríguez</td>\n",
              "      <td>2016-07-16</td>\n",
              "      <td>2</td>\n",
              "      <td>True</td>\n",
              "      <td>17645694.00</td>\n",
              "      <td>True</td>\n",
              "      <td>Cotización 850 - John Rodriguez - U2+ EXTENDED</td>\n",
              "    </tr>\n",
              "    <tr>\n",
              "      <th>99</th>\n",
              "      <td>851</td>\n",
              "      <td>John Fredy Rodríguez</td>\n",
              "      <td>2016-07-18</td>\n",
              "      <td>2</td>\n",
              "      <td>True</td>\n",
              "      <td>13310920.00</td>\n",
              "      <td>True</td>\n",
              "      <td>Cotización 851 - John Rodriguez - U2+</td>\n",
              "    </tr>\n",
              "  </tbody>\n",
              "</table>\n",
              "<p>100 rows × 8 columns</p>\n",
              "</div>\n",
              "      <button class=\"colab-df-convert\" onclick=\"convertToInteractive('df-ae9a19c7-8b40-488f-b87b-0896808a001e')\"\n",
              "              title=\"Convert this dataframe to an interactive table.\"\n",
              "              style=\"display:none;\">\n",
              "        \n",
              "  <svg xmlns=\"http://www.w3.org/2000/svg\" height=\"24px\"viewBox=\"0 0 24 24\"\n",
              "       width=\"24px\">\n",
              "    <path d=\"M0 0h24v24H0V0z\" fill=\"none\"/>\n",
              "    <path d=\"M18.56 5.44l.94 2.06.94-2.06 2.06-.94-2.06-.94-.94-2.06-.94 2.06-2.06.94zm-11 1L8.5 8.5l.94-2.06 2.06-.94-2.06-.94L8.5 2.5l-.94 2.06-2.06.94zm10 10l.94 2.06.94-2.06 2.06-.94-2.06-.94-.94-2.06-.94 2.06-2.06.94z\"/><path d=\"M17.41 7.96l-1.37-1.37c-.4-.4-.92-.59-1.43-.59-.52 0-1.04.2-1.43.59L10.3 9.45l-7.72 7.72c-.78.78-.78 2.05 0 2.83L4 21.41c.39.39.9.59 1.41.59.51 0 1.02-.2 1.41-.59l7.78-7.78 2.81-2.81c.8-.78.8-2.07 0-2.86zM5.41 20L4 18.59l7.72-7.72 1.47 1.35L5.41 20z\"/>\n",
              "  </svg>\n",
              "      </button>\n",
              "      \n",
              "  <style>\n",
              "    .colab-df-container {\n",
              "      display:flex;\n",
              "      flex-wrap:wrap;\n",
              "      gap: 12px;\n",
              "    }\n",
              "\n",
              "    .colab-df-convert {\n",
              "      background-color: #E8F0FE;\n",
              "      border: none;\n",
              "      border-radius: 50%;\n",
              "      cursor: pointer;\n",
              "      display: none;\n",
              "      fill: #1967D2;\n",
              "      height: 32px;\n",
              "      padding: 0 0 0 0;\n",
              "      width: 32px;\n",
              "    }\n",
              "\n",
              "    .colab-df-convert:hover {\n",
              "      background-color: #E2EBFA;\n",
              "      box-shadow: 0px 1px 2px rgba(60, 64, 67, 0.3), 0px 1px 3px 1px rgba(60, 64, 67, 0.15);\n",
              "      fill: #174EA6;\n",
              "    }\n",
              "\n",
              "    [theme=dark] .colab-df-convert {\n",
              "      background-color: #3B4455;\n",
              "      fill: #D2E3FC;\n",
              "    }\n",
              "\n",
              "    [theme=dark] .colab-df-convert:hover {\n",
              "      background-color: #434B5C;\n",
              "      box-shadow: 0px 1px 3px 1px rgba(0, 0, 0, 0.15);\n",
              "      filter: drop-shadow(0px 1px 2px rgba(0, 0, 0, 0.3));\n",
              "      fill: #FFFFFF;\n",
              "    }\n",
              "  </style>\n",
              "\n",
              "      <script>\n",
              "        const buttonEl =\n",
              "          document.querySelector('#df-ae9a19c7-8b40-488f-b87b-0896808a001e button.colab-df-convert');\n",
              "        buttonEl.style.display =\n",
              "          google.colab.kernel.accessAllowed ? 'block' : 'none';\n",
              "\n",
              "        async function convertToInteractive(key) {\n",
              "          const element = document.querySelector('#df-ae9a19c7-8b40-488f-b87b-0896808a001e');\n",
              "          const dataTable =\n",
              "            await google.colab.kernel.invokeFunction('convertToInteractive',\n",
              "                                                     [key], {});\n",
              "          if (!dataTable) return;\n",
              "\n",
              "          const docLinkHtml = 'Like what you see? Visit the ' +\n",
              "            '<a target=\"_blank\" href=https://colab.research.google.com/notebooks/data_table.ipynb>data table notebook</a>'\n",
              "            + ' to learn more about interactive tables.';\n",
              "          element.innerHTML = '';\n",
              "          dataTable['output_type'] = 'display_data';\n",
              "          await google.colab.output.renderOutput(dataTable, element);\n",
              "          const docLink = document.createElement('div');\n",
              "          docLink.innerHTML = docLinkHtml;\n",
              "          element.appendChild(docLink);\n",
              "        }\n",
              "      </script>\n",
              "    </div>\n",
              "  </div>\n",
              "  "
            ]
          },
          "metadata": {},
          "execution_count": 3
        }
      ]
    },
    {
      "cell_type": "markdown",
      "source": [
        "# Tratamiendo del DF <a name=\"Df\">  </a>"
      ],
      "metadata": {
        "id": "DBZjk2_Knzw4"
      }
    },
    {
      "cell_type": "code",
      "source": [
        "df.drop(['N_Cot', 'document'], axis= 'columns', inplace=True)\n",
        "df"
      ],
      "metadata": {
        "colab": {
          "base_uri": "https://localhost:8080/",
          "height": 424
        },
        "id": "GEQ81qTW_f7Y",
        "outputId": "e3a997a1-6674-4220-9603-11b8cd31d49d"
      },
      "execution_count": 4,
      "outputs": [
        {
          "output_type": "execute_result",
          "data": {
            "text/plain": [
              "                   Cliente      Fecha  N_Productos_Total  Capacitacion  \\\n",
              "0          Eduardo Ramirez 2016-05-03                  2         False   \n",
              "1           DAR Soluciones 2016-05-03                  2         False   \n",
              "2           Paola Buitrago 2016-05-04                  3          True   \n",
              "3     BPM Global Solutions 2016-05-04                  6          True   \n",
              "4            Diego Salazar 2016-05-05                  2          True   \n",
              "..                     ...        ...                ...           ...   \n",
              "95        Victor Melgarejo 2016-07-14                  1          True   \n",
              "96  Solutions Group S.A.S. 2016-07-14                  2         False   \n",
              "97               Analytica 2016-07-15                  8          True   \n",
              "98    John Fredy Rodríguez 2016-07-16                  2          True   \n",
              "99    John Fredy Rodríguez 2016-07-18                  2          True   \n",
              "\n",
              "        V_Total  Descuento  \n",
              "0     273760.00      False  \n",
              "1    6641000.00      False  \n",
              "2    3089520.00      False  \n",
              "3   24831784.00       True  \n",
              "4   21451000.00       True  \n",
              "..          ...        ...  \n",
              "95  16400000.00      False  \n",
              "96   2025360.00      False  \n",
              "97  40901725.42       True  \n",
              "98  17645694.00       True  \n",
              "99  13310920.00       True  \n",
              "\n",
              "[100 rows x 6 columns]"
            ],
            "text/html": [
              "\n",
              "  <div id=\"df-983fb3c8-e97d-417d-812b-b3620bb6bee8\">\n",
              "    <div class=\"colab-df-container\">\n",
              "      <div>\n",
              "<style scoped>\n",
              "    .dataframe tbody tr th:only-of-type {\n",
              "        vertical-align: middle;\n",
              "    }\n",
              "\n",
              "    .dataframe tbody tr th {\n",
              "        vertical-align: top;\n",
              "    }\n",
              "\n",
              "    .dataframe thead th {\n",
              "        text-align: right;\n",
              "    }\n",
              "</style>\n",
              "<table border=\"1\" class=\"dataframe\">\n",
              "  <thead>\n",
              "    <tr style=\"text-align: right;\">\n",
              "      <th></th>\n",
              "      <th>Cliente</th>\n",
              "      <th>Fecha</th>\n",
              "      <th>N_Productos_Total</th>\n",
              "      <th>Capacitacion</th>\n",
              "      <th>V_Total</th>\n",
              "      <th>Descuento</th>\n",
              "    </tr>\n",
              "  </thead>\n",
              "  <tbody>\n",
              "    <tr>\n",
              "      <th>0</th>\n",
              "      <td>Eduardo Ramirez</td>\n",
              "      <td>2016-05-03</td>\n",
              "      <td>2</td>\n",
              "      <td>False</td>\n",
              "      <td>273760.00</td>\n",
              "      <td>False</td>\n",
              "    </tr>\n",
              "    <tr>\n",
              "      <th>1</th>\n",
              "      <td>DAR Soluciones</td>\n",
              "      <td>2016-05-03</td>\n",
              "      <td>2</td>\n",
              "      <td>False</td>\n",
              "      <td>6641000.00</td>\n",
              "      <td>False</td>\n",
              "    </tr>\n",
              "    <tr>\n",
              "      <th>2</th>\n",
              "      <td>Paola Buitrago</td>\n",
              "      <td>2016-05-04</td>\n",
              "      <td>3</td>\n",
              "      <td>True</td>\n",
              "      <td>3089520.00</td>\n",
              "      <td>False</td>\n",
              "    </tr>\n",
              "    <tr>\n",
              "      <th>3</th>\n",
              "      <td>BPM Global Solutions</td>\n",
              "      <td>2016-05-04</td>\n",
              "      <td>6</td>\n",
              "      <td>True</td>\n",
              "      <td>24831784.00</td>\n",
              "      <td>True</td>\n",
              "    </tr>\n",
              "    <tr>\n",
              "      <th>4</th>\n",
              "      <td>Diego Salazar</td>\n",
              "      <td>2016-05-05</td>\n",
              "      <td>2</td>\n",
              "      <td>True</td>\n",
              "      <td>21451000.00</td>\n",
              "      <td>True</td>\n",
              "    </tr>\n",
              "    <tr>\n",
              "      <th>...</th>\n",
              "      <td>...</td>\n",
              "      <td>...</td>\n",
              "      <td>...</td>\n",
              "      <td>...</td>\n",
              "      <td>...</td>\n",
              "      <td>...</td>\n",
              "    </tr>\n",
              "    <tr>\n",
              "      <th>95</th>\n",
              "      <td>Victor Melgarejo</td>\n",
              "      <td>2016-07-14</td>\n",
              "      <td>1</td>\n",
              "      <td>True</td>\n",
              "      <td>16400000.00</td>\n",
              "      <td>False</td>\n",
              "    </tr>\n",
              "    <tr>\n",
              "      <th>96</th>\n",
              "      <td>Solutions Group S.A.S.</td>\n",
              "      <td>2016-07-14</td>\n",
              "      <td>2</td>\n",
              "      <td>False</td>\n",
              "      <td>2025360.00</td>\n",
              "      <td>False</td>\n",
              "    </tr>\n",
              "    <tr>\n",
              "      <th>97</th>\n",
              "      <td>Analytica</td>\n",
              "      <td>2016-07-15</td>\n",
              "      <td>8</td>\n",
              "      <td>True</td>\n",
              "      <td>40901725.42</td>\n",
              "      <td>True</td>\n",
              "    </tr>\n",
              "    <tr>\n",
              "      <th>98</th>\n",
              "      <td>John Fredy Rodríguez</td>\n",
              "      <td>2016-07-16</td>\n",
              "      <td>2</td>\n",
              "      <td>True</td>\n",
              "      <td>17645694.00</td>\n",
              "      <td>True</td>\n",
              "    </tr>\n",
              "    <tr>\n",
              "      <th>99</th>\n",
              "      <td>John Fredy Rodríguez</td>\n",
              "      <td>2016-07-18</td>\n",
              "      <td>2</td>\n",
              "      <td>True</td>\n",
              "      <td>13310920.00</td>\n",
              "      <td>True</td>\n",
              "    </tr>\n",
              "  </tbody>\n",
              "</table>\n",
              "<p>100 rows × 6 columns</p>\n",
              "</div>\n",
              "      <button class=\"colab-df-convert\" onclick=\"convertToInteractive('df-983fb3c8-e97d-417d-812b-b3620bb6bee8')\"\n",
              "              title=\"Convert this dataframe to an interactive table.\"\n",
              "              style=\"display:none;\">\n",
              "        \n",
              "  <svg xmlns=\"http://www.w3.org/2000/svg\" height=\"24px\"viewBox=\"0 0 24 24\"\n",
              "       width=\"24px\">\n",
              "    <path d=\"M0 0h24v24H0V0z\" fill=\"none\"/>\n",
              "    <path d=\"M18.56 5.44l.94 2.06.94-2.06 2.06-.94-2.06-.94-.94-2.06-.94 2.06-2.06.94zm-11 1L8.5 8.5l.94-2.06 2.06-.94-2.06-.94L8.5 2.5l-.94 2.06-2.06.94zm10 10l.94 2.06.94-2.06 2.06-.94-2.06-.94-.94-2.06-.94 2.06-2.06.94z\"/><path d=\"M17.41 7.96l-1.37-1.37c-.4-.4-.92-.59-1.43-.59-.52 0-1.04.2-1.43.59L10.3 9.45l-7.72 7.72c-.78.78-.78 2.05 0 2.83L4 21.41c.39.39.9.59 1.41.59.51 0 1.02-.2 1.41-.59l7.78-7.78 2.81-2.81c.8-.78.8-2.07 0-2.86zM5.41 20L4 18.59l7.72-7.72 1.47 1.35L5.41 20z\"/>\n",
              "  </svg>\n",
              "      </button>\n",
              "      \n",
              "  <style>\n",
              "    .colab-df-container {\n",
              "      display:flex;\n",
              "      flex-wrap:wrap;\n",
              "      gap: 12px;\n",
              "    }\n",
              "\n",
              "    .colab-df-convert {\n",
              "      background-color: #E8F0FE;\n",
              "      border: none;\n",
              "      border-radius: 50%;\n",
              "      cursor: pointer;\n",
              "      display: none;\n",
              "      fill: #1967D2;\n",
              "      height: 32px;\n",
              "      padding: 0 0 0 0;\n",
              "      width: 32px;\n",
              "    }\n",
              "\n",
              "    .colab-df-convert:hover {\n",
              "      background-color: #E2EBFA;\n",
              "      box-shadow: 0px 1px 2px rgba(60, 64, 67, 0.3), 0px 1px 3px 1px rgba(60, 64, 67, 0.15);\n",
              "      fill: #174EA6;\n",
              "    }\n",
              "\n",
              "    [theme=dark] .colab-df-convert {\n",
              "      background-color: #3B4455;\n",
              "      fill: #D2E3FC;\n",
              "    }\n",
              "\n",
              "    [theme=dark] .colab-df-convert:hover {\n",
              "      background-color: #434B5C;\n",
              "      box-shadow: 0px 1px 3px 1px rgba(0, 0, 0, 0.15);\n",
              "      filter: drop-shadow(0px 1px 2px rgba(0, 0, 0, 0.3));\n",
              "      fill: #FFFFFF;\n",
              "    }\n",
              "  </style>\n",
              "\n",
              "      <script>\n",
              "        const buttonEl =\n",
              "          document.querySelector('#df-983fb3c8-e97d-417d-812b-b3620bb6bee8 button.colab-df-convert');\n",
              "        buttonEl.style.display =\n",
              "          google.colab.kernel.accessAllowed ? 'block' : 'none';\n",
              "\n",
              "        async function convertToInteractive(key) {\n",
              "          const element = document.querySelector('#df-983fb3c8-e97d-417d-812b-b3620bb6bee8');\n",
              "          const dataTable =\n",
              "            await google.colab.kernel.invokeFunction('convertToInteractive',\n",
              "                                                     [key], {});\n",
              "          if (!dataTable) return;\n",
              "\n",
              "          const docLinkHtml = 'Like what you see? Visit the ' +\n",
              "            '<a target=\"_blank\" href=https://colab.research.google.com/notebooks/data_table.ipynb>data table notebook</a>'\n",
              "            + ' to learn more about interactive tables.';\n",
              "          element.innerHTML = '';\n",
              "          dataTable['output_type'] = 'display_data';\n",
              "          await google.colab.output.renderOutput(dataTable, element);\n",
              "          const docLink = document.createElement('div');\n",
              "          docLink.innerHTML = docLinkHtml;\n",
              "          element.appendChild(docLink);\n",
              "        }\n",
              "      </script>\n",
              "    </div>\n",
              "  </div>\n",
              "  "
            ]
          },
          "metadata": {},
          "execution_count": 4
        }
      ]
    },
    {
      "cell_type": "code",
      "source": [
        "NomUniq = df['Cliente'].unique()\n",
        "print(NomUniq)\n",
        "df['Cliente'], cliente_gt = pd.factorize(df['Cliente'])\n",
        "df['Capacitacion'], capacitacion_gt = pd.factorize(df['Capacitacion'])\n",
        "df['Descuento'], descuento_gt = pd.factorize(df['Descuento'])\n",
        "df['Fecha'], fecha_gt = pd.factorize(df['Fecha'])\n",
        "df\n",
        "\n"
      ],
      "metadata": {
        "colab": {
          "base_uri": "https://localhost:8080/",
          "height": 979
        },
        "id": "xr1kCDWgxaFf",
        "outputId": "0c2d6292-dab3-4ad9-edbd-252c95527bed"
      },
      "execution_count": 5,
      "outputs": [
        {
          "output_type": "stream",
          "name": "stdout",
          "text": [
            "['Eduardo Ramirez' 'DAR Soluciones' 'Paola Buitrago'\n",
            " 'BPM Global Solutions' 'Diego Salazar' 'UNIVERSIDAD DE LOS ANDES'\n",
            " 'Daniela gomez' 'ASSA ABLOY - YALE' 'Colegio Colombo Británico'\n",
            " 'Iproyect Cali' 'Jhon Fredy Correa' 'Nubia Godoy Miranda'\n",
            " 'Leonel José Paredes' 'Pontificia Universidad Javeriana Bogotá'\n",
            " 'RTR S.A.S.' 'Felipe Franco' 'Jose Fernando Perez Villa'\n",
            " 'Tecnología Ambiental NOW' 'Freddy Parra' 'Juan Carlos Fonseca'\n",
            " 'Sandra Perez' 'Universidad Manuela Beltrán' 'TEK SOLUCIONES'\n",
            " 'Universidad Santo Tomás Bucaramanga' 'Ivan Ponce' 'John Fredy Rodriguez'\n",
            " 'Universidad Colegio Mayor de Antioquia' 'Ciro Nugnez' 'Luz Chacon'\n",
            " 'Universidad Pontificia Javeriana' 'MUNDIAL DE COMPUTADORES'\n",
            " 'Mundial de Computadores' 'Silvia Moreno' 'Zuministra Distribuciones'\n",
            " 'Robertson Becerra' 'Universidad de Boyacá' 'Suconel S.A.'\n",
            " 'Pontificia Universidad Javeriana' 'Universidad Nacional de Colombia'\n",
            " 'Nestor Julio Sanchez' 'Colombo Americano Pereira'\n",
            " 'Unidades Tecnológicas de Santander' 'German David Fuentes'\n",
            " 'INTOPCO S.A.S' 'Universidad Agustiniana'\n",
            " 'Universidad Católica de Colombia' 'Universidad Libre Cúcuta'\n",
            " 'Jesid Arias' 'John Freddy García' 'YENNIFER PEÑALOZA L.'\n",
            " 'Suministros Maybe' 'Alfredo Burbano' 'Multimedia Software'\n",
            " 'La Hora Loca Cali' 'MAXIMILIANO CASTAÑEDA RIVERA'\n",
            " 'Mediterranean Marble Company S.A.S.' 'Luis Franco Salinas'\n",
            " 'Vortex Company SAS' 'SENA' 'CONALMEDICAS' 'Universidad de Los Andes'\n",
            " 'Cesar Parra' 'Tecnoparque Sena nodo Medellín' 'Cristian Salamanca'\n",
            " 'Herramientas Industriales E.U.' 'Ruben Caipe'\n",
            " 'Hospital general de Medellín' 'DIDACSAN' 'Blackdog Ingeniería'\n",
            " 'Tecnoparque Sena La Angostura' 'Universidad EIA'\n",
            " 'Universidad La Gran Colombia' 'Victor Melgarejo' 'UNIMINUTO'\n",
            " 'DELICAKE BARRANQUILLA' 'Orbey Quintero' 'Andres Benavides'\n",
            " 'Julián Agudelo' 'Corporación Kairos' 'TECNOPARQUE NODO VALLEDUPAR'\n",
            " 'Black Dog Ltda' 'Solutions Group S.A.S.' 'Analytica'\n",
            " 'John Fredy Rodríguez']\n"
          ]
        },
        {
          "output_type": "execute_result",
          "data": {
            "text/plain": [
              "    Cliente  Fecha  N_Productos_Total  Capacitacion      V_Total  Descuento\n",
              "0         0      0                  2             0    273760.00          0\n",
              "1         1      0                  2             0   6641000.00          0\n",
              "2         2      1                  3             1   3089520.00          0\n",
              "3         3      1                  6             1  24831784.00          1\n",
              "4         4      2                  2             1  21451000.00          1\n",
              "..      ...    ...                ...           ...          ...        ...\n",
              "95       72     44                  1             1  16400000.00          0\n",
              "96       81     44                  2             0   2025360.00          0\n",
              "97       82     45                  8             1  40901725.42          1\n",
              "98       83     46                  2             1  17645694.00          1\n",
              "99       83     47                  2             1  13310920.00          1\n",
              "\n",
              "[100 rows x 6 columns]"
            ],
            "text/html": [
              "\n",
              "  <div id=\"df-f442f667-f0af-464e-bf97-abe4919fb957\">\n",
              "    <div class=\"colab-df-container\">\n",
              "      <div>\n",
              "<style scoped>\n",
              "    .dataframe tbody tr th:only-of-type {\n",
              "        vertical-align: middle;\n",
              "    }\n",
              "\n",
              "    .dataframe tbody tr th {\n",
              "        vertical-align: top;\n",
              "    }\n",
              "\n",
              "    .dataframe thead th {\n",
              "        text-align: right;\n",
              "    }\n",
              "</style>\n",
              "<table border=\"1\" class=\"dataframe\">\n",
              "  <thead>\n",
              "    <tr style=\"text-align: right;\">\n",
              "      <th></th>\n",
              "      <th>Cliente</th>\n",
              "      <th>Fecha</th>\n",
              "      <th>N_Productos_Total</th>\n",
              "      <th>Capacitacion</th>\n",
              "      <th>V_Total</th>\n",
              "      <th>Descuento</th>\n",
              "    </tr>\n",
              "  </thead>\n",
              "  <tbody>\n",
              "    <tr>\n",
              "      <th>0</th>\n",
              "      <td>0</td>\n",
              "      <td>0</td>\n",
              "      <td>2</td>\n",
              "      <td>0</td>\n",
              "      <td>273760.00</td>\n",
              "      <td>0</td>\n",
              "    </tr>\n",
              "    <tr>\n",
              "      <th>1</th>\n",
              "      <td>1</td>\n",
              "      <td>0</td>\n",
              "      <td>2</td>\n",
              "      <td>0</td>\n",
              "      <td>6641000.00</td>\n",
              "      <td>0</td>\n",
              "    </tr>\n",
              "    <tr>\n",
              "      <th>2</th>\n",
              "      <td>2</td>\n",
              "      <td>1</td>\n",
              "      <td>3</td>\n",
              "      <td>1</td>\n",
              "      <td>3089520.00</td>\n",
              "      <td>0</td>\n",
              "    </tr>\n",
              "    <tr>\n",
              "      <th>3</th>\n",
              "      <td>3</td>\n",
              "      <td>1</td>\n",
              "      <td>6</td>\n",
              "      <td>1</td>\n",
              "      <td>24831784.00</td>\n",
              "      <td>1</td>\n",
              "    </tr>\n",
              "    <tr>\n",
              "      <th>4</th>\n",
              "      <td>4</td>\n",
              "      <td>2</td>\n",
              "      <td>2</td>\n",
              "      <td>1</td>\n",
              "      <td>21451000.00</td>\n",
              "      <td>1</td>\n",
              "    </tr>\n",
              "    <tr>\n",
              "      <th>...</th>\n",
              "      <td>...</td>\n",
              "      <td>...</td>\n",
              "      <td>...</td>\n",
              "      <td>...</td>\n",
              "      <td>...</td>\n",
              "      <td>...</td>\n",
              "    </tr>\n",
              "    <tr>\n",
              "      <th>95</th>\n",
              "      <td>72</td>\n",
              "      <td>44</td>\n",
              "      <td>1</td>\n",
              "      <td>1</td>\n",
              "      <td>16400000.00</td>\n",
              "      <td>0</td>\n",
              "    </tr>\n",
              "    <tr>\n",
              "      <th>96</th>\n",
              "      <td>81</td>\n",
              "      <td>44</td>\n",
              "      <td>2</td>\n",
              "      <td>0</td>\n",
              "      <td>2025360.00</td>\n",
              "      <td>0</td>\n",
              "    </tr>\n",
              "    <tr>\n",
              "      <th>97</th>\n",
              "      <td>82</td>\n",
              "      <td>45</td>\n",
              "      <td>8</td>\n",
              "      <td>1</td>\n",
              "      <td>40901725.42</td>\n",
              "      <td>1</td>\n",
              "    </tr>\n",
              "    <tr>\n",
              "      <th>98</th>\n",
              "      <td>83</td>\n",
              "      <td>46</td>\n",
              "      <td>2</td>\n",
              "      <td>1</td>\n",
              "      <td>17645694.00</td>\n",
              "      <td>1</td>\n",
              "    </tr>\n",
              "    <tr>\n",
              "      <th>99</th>\n",
              "      <td>83</td>\n",
              "      <td>47</td>\n",
              "      <td>2</td>\n",
              "      <td>1</td>\n",
              "      <td>13310920.00</td>\n",
              "      <td>1</td>\n",
              "    </tr>\n",
              "  </tbody>\n",
              "</table>\n",
              "<p>100 rows × 6 columns</p>\n",
              "</div>\n",
              "      <button class=\"colab-df-convert\" onclick=\"convertToInteractive('df-f442f667-f0af-464e-bf97-abe4919fb957')\"\n",
              "              title=\"Convert this dataframe to an interactive table.\"\n",
              "              style=\"display:none;\">\n",
              "        \n",
              "  <svg xmlns=\"http://www.w3.org/2000/svg\" height=\"24px\"viewBox=\"0 0 24 24\"\n",
              "       width=\"24px\">\n",
              "    <path d=\"M0 0h24v24H0V0z\" fill=\"none\"/>\n",
              "    <path d=\"M18.56 5.44l.94 2.06.94-2.06 2.06-.94-2.06-.94-.94-2.06-.94 2.06-2.06.94zm-11 1L8.5 8.5l.94-2.06 2.06-.94-2.06-.94L8.5 2.5l-.94 2.06-2.06.94zm10 10l.94 2.06.94-2.06 2.06-.94-2.06-.94-.94-2.06-.94 2.06-2.06.94z\"/><path d=\"M17.41 7.96l-1.37-1.37c-.4-.4-.92-.59-1.43-.59-.52 0-1.04.2-1.43.59L10.3 9.45l-7.72 7.72c-.78.78-.78 2.05 0 2.83L4 21.41c.39.39.9.59 1.41.59.51 0 1.02-.2 1.41-.59l7.78-7.78 2.81-2.81c.8-.78.8-2.07 0-2.86zM5.41 20L4 18.59l7.72-7.72 1.47 1.35L5.41 20z\"/>\n",
              "  </svg>\n",
              "      </button>\n",
              "      \n",
              "  <style>\n",
              "    .colab-df-container {\n",
              "      display:flex;\n",
              "      flex-wrap:wrap;\n",
              "      gap: 12px;\n",
              "    }\n",
              "\n",
              "    .colab-df-convert {\n",
              "      background-color: #E8F0FE;\n",
              "      border: none;\n",
              "      border-radius: 50%;\n",
              "      cursor: pointer;\n",
              "      display: none;\n",
              "      fill: #1967D2;\n",
              "      height: 32px;\n",
              "      padding: 0 0 0 0;\n",
              "      width: 32px;\n",
              "    }\n",
              "\n",
              "    .colab-df-convert:hover {\n",
              "      background-color: #E2EBFA;\n",
              "      box-shadow: 0px 1px 2px rgba(60, 64, 67, 0.3), 0px 1px 3px 1px rgba(60, 64, 67, 0.15);\n",
              "      fill: #174EA6;\n",
              "    }\n",
              "\n",
              "    [theme=dark] .colab-df-convert {\n",
              "      background-color: #3B4455;\n",
              "      fill: #D2E3FC;\n",
              "    }\n",
              "\n",
              "    [theme=dark] .colab-df-convert:hover {\n",
              "      background-color: #434B5C;\n",
              "      box-shadow: 0px 1px 3px 1px rgba(0, 0, 0, 0.15);\n",
              "      filter: drop-shadow(0px 1px 2px rgba(0, 0, 0, 0.3));\n",
              "      fill: #FFFFFF;\n",
              "    }\n",
              "  </style>\n",
              "\n",
              "      <script>\n",
              "        const buttonEl =\n",
              "          document.querySelector('#df-f442f667-f0af-464e-bf97-abe4919fb957 button.colab-df-convert');\n",
              "        buttonEl.style.display =\n",
              "          google.colab.kernel.accessAllowed ? 'block' : 'none';\n",
              "\n",
              "        async function convertToInteractive(key) {\n",
              "          const element = document.querySelector('#df-f442f667-f0af-464e-bf97-abe4919fb957');\n",
              "          const dataTable =\n",
              "            await google.colab.kernel.invokeFunction('convertToInteractive',\n",
              "                                                     [key], {});\n",
              "          if (!dataTable) return;\n",
              "\n",
              "          const docLinkHtml = 'Like what you see? Visit the ' +\n",
              "            '<a target=\"_blank\" href=https://colab.research.google.com/notebooks/data_table.ipynb>data table notebook</a>'\n",
              "            + ' to learn more about interactive tables.';\n",
              "          element.innerHTML = '';\n",
              "          dataTable['output_type'] = 'display_data';\n",
              "          await google.colab.output.renderOutput(dataTable, element);\n",
              "          const docLink = document.createElement('div');\n",
              "          docLink.innerHTML = docLinkHtml;\n",
              "          element.appendChild(docLink);\n",
              "        }\n",
              "      </script>\n",
              "    </div>\n",
              "  </div>\n",
              "  "
            ]
          },
          "metadata": {},
          "execution_count": 5
        }
      ]
    },
    {
      "cell_type": "code",
      "source": [
        "# PIE de los datos de cada columna, no es muy útil más allá de los que son true y false...\n",
        "\n",
        "#cantidad = df['Capacitacion'].value_counts()\n",
        "#print(cantidad)\n",
        "#print(cantidad.index)\n",
        "#print(cantidad.values)\n",
        "  \n",
        "#fig1, ax1 = plt.subplots(figsize = (5,5))\n",
        "#ax1.pie(cantidad.values, labels=cantidad.index, autopct='%1.1f%%', startangle=90, title=\"Distribución de la columna\")\n",
        "#ax1.axis('equal')  \n",
        "\n",
        "#plt.show()\n"
      ],
      "metadata": {
        "id": "P1OxPXqrOA1D"
      },
      "execution_count": 1,
      "outputs": []
    },
    {
      "cell_type": "code",
      "source": [
        "y = df[['V_Total']]\n",
        "X = df[['Cliente', 'Fecha', 'N_Productos_Total', 'Capacitacion', 'Descuento']]\n",
        "print(y.shape, X.shape)"
      ],
      "metadata": {
        "colab": {
          "base_uri": "https://localhost:8080/"
        },
        "id": "pgEepOeaISW8",
        "outputId": "53cf0a04-1d52-4c3d-b808-da711845d5c1"
      },
      "execution_count": 6,
      "outputs": [
        {
          "output_type": "stream",
          "name": "stdout",
          "text": [
            "(100, 1) (100, 5)\n"
          ]
        }
      ]
    },
    {
      "cell_type": "markdown",
      "source": [
        "# Decision Tree <a name=\"DTR\"></a>"
      ],
      "metadata": {
        "id": "I7vqEDS6Ok1T"
      }
    },
    {
      "cell_type": "code",
      "source": [
        "from sklearn.tree import DecisionTreeRegressor\n",
        "from sklearn.metrics import mean_squared_error\n",
        "import numpy as np\n",
        "from sklearn.model_selection import train_test_split\n",
        "\n",
        "\n",
        "X_train, X_test, y_train, y_test = train_test_split(X, y, test_size=0.2, random_state=21)\n",
        "est = DecisionTreeRegressor()\n",
        "\n",
        "est.fit(X_train,y_train)\n",
        "y_pred = est.predict(X_test)\n",
        "\n",
        "print(mean_squared_error(y_test, y_pred))"
      ],
      "metadata": {
        "colab": {
          "base_uri": "https://localhost:8080/"
        },
        "id": "8yyCmbSBMNaA",
        "outputId": "0ed81f92-640c-4405-bc52-ec211642011a"
      },
      "execution_count": null,
      "outputs": [
        {
          "output_type": "stream",
          "name": "stdout",
          "text": [
            "282967546354982.6\n"
          ]
        }
      ]
    },
    {
      "cell_type": "markdown",
      "source": [
        "Tunning"
      ],
      "metadata": {
        "id": "Ua1ohXmbWQ8G"
      }
    },
    {
      "cell_type": "code",
      "source": [
        "scores1=[]\n",
        "for md in [2,10,50,100,500]:\n",
        "      est1 = DecisionTreeRegressor(random_state=21,max_depth=md)\n",
        "      est1.fit(X_train,y_train)\n",
        "      pred = est1.predict(X_test)\n",
        "      rmse = np.sqrt(mean_squared_error(y_test,pred))\n",
        "      scores1.append(rmse)\n",
        "\n",
        "f = plt.figure(figsize=(12,3))\n",
        "f.subplots_adjust(wspace=0.5)\n",
        "\n",
        "\n",
        "ax1 = f.add_subplot(121)\n",
        "ax1.set_title('Using 2 columns')\n",
        "ax1.plot(range(5), scores1, c='red', label='DTR')\n",
        "ax1.set_xlabel('max_depth')\n",
        "ax1.set_ylabel('RMSE')\n",
        "ax1.legend()\n"
      ],
      "metadata": {
        "id": "tgXDYIpqQEB-",
        "colab": {
          "base_uri": "https://localhost:8080/",
          "height": 260
        },
        "outputId": "cd749beb-285e-443c-ecb6-8cdbb5acba3c"
      },
      "execution_count": null,
      "outputs": [
        {
          "output_type": "execute_result",
          "data": {
            "text/plain": [
              "<matplotlib.legend.Legend at 0x7ff937d45d90>"
            ]
          },
          "metadata": {},
          "execution_count": 83
        },
        {
          "output_type": "display_data",
          "data": {
            "text/plain": [
              "<Figure size 864x216 with 1 Axes>"
            ],
            "image/png": "[encoded data removed]"
          },
          "metadata": {
            "needs_background": "light"
          }
        }
      ]
    },
    {
      "cell_type": "markdown",
      "source": [
        "### Cross validation"
      ],
      "metadata": {
        "id": "rhslcYJZP5sP"
      }
    },
    {
      "cell_type": "code",
      "source": [
        "from sklearn.model_selection import KFold\n",
        "from sklearn.model_selection import cross_val_score\n",
        "\n",
        "est = DecisionTreeRegressor()\n",
        "\n",
        "s = cross_val_score(est, X, y, cv=KFold(100, shuffle=True), scoring=make_scorer(mean_squared_error))\n",
        "print(\"accuracy %.3f (+/- %.5f)\"%(np.mean(s), np.std(s)))"
      ],
      "metadata": {
        "id": "ksTPQefCNGCx",
        "colab": {
          "base_uri": "https://localhost:8080/"
        },
        "outputId": "de92d697-5fcb-481f-efca-7833602892b5"
      },
      "execution_count": null,
      "outputs": [
        {
          "output_type": "stream",
          "name": "stdout",
          "text": [
            "accuracy 246884390980265.406 (+/- 603408088553196.87500)\n"
          ]
        }
      ]
    },
    {
      "cell_type": "markdown",
      "source": [
        "Tunning"
      ],
      "metadata": {
        "id": "Caa9auWdXCs1"
      }
    },
    {
      "cell_type": "code",
      "source": [
        "from sklearn.model_selection import KFold\n",
        "from sklearn.model_selection import cross_val_score\n",
        "scores2=[]\n",
        "for md in [2,10,50,100,500]:\n",
        "  est1 = DecisionTreeRegressor(random_state=21,max_depth=md)\n",
        "  s = cross_val_score(est1, X, y, cv=KFold(100, shuffle=True), scoring=make_scorer(mean_squared_error))\n",
        "  scores2.append(np.mean(s))\n",
        "\n",
        "f = plt.figure(figsize=(12,3))\n",
        "f.subplots_adjust(wspace=0.5)\n",
        "\n",
        "\n",
        "ax1 = f.add_subplot(121)\n",
        "ax1.set_title('Cambiando max_depth')\n",
        "ax1.plot(range(5), scores2, c='red', label='DTR')\n",
        "ax1.set_xlabel('max_depth')\n",
        "ax1.set_ylabel('MSE')\n",
        "ax1.legend()\n",
        "\n"
      ],
      "metadata": {
        "colab": {
          "base_uri": "https://localhost:8080/",
          "height": 260
        },
        "id": "RF2PoeFkT9x0",
        "outputId": "65fe3ec7-fc86-45ae-946a-c2aa2f2e0980"
      },
      "execution_count": null,
      "outputs": [
        {
          "output_type": "execute_result",
          "data": {
            "text/plain": [
              "<matplotlib.legend.Legend at 0x7ff937073a90>"
            ]
          },
          "metadata": {},
          "execution_count": 111
        },
        {
          "output_type": "display_data",
          "data": {
            "text/plain": [
              "<Figure size 864x216 with 1 Axes>"
            ],
            "image/png": "[encoded data removed]"
          },
          "metadata": {
            "needs_background": "light"
          }
        }
      ]
    },
    {
      "cell_type": "markdown",
      "source": [
        "# Random Forest <a name=\"RFR\"></a>"
      ],
      "metadata": {
        "id": "Rj07ebRfVXxI"
      }
    },
    {
      "cell_type": "code",
      "source": [
        "from sklearn.ensemble import RandomForestRegressor\n",
        "from sklearn.metrics import mean_squared_error\n",
        "import numpy as np\n",
        "from sklearn.model_selection import train_test_split\n",
        "\n",
        "\n",
        "X_train, X_test, y_train, y_test = train_test_split(X, y, test_size=0.2, random_state=21)\n",
        "est2 = RandomForestRegressor(random_state=21)\n",
        "est2.fit(X_train,y_train.values.ravel())\n",
        "y_pred = est2.predict(X_test)\n",
        "\n",
        "print(mean_squared_error(y_test, y_pred))"
      ],
      "metadata": {
        "colab": {
          "base_uri": "https://localhost:8080/"
        },
        "id": "yoOdszI2VcW4",
        "outputId": "f983fd5e-ffd7-4ced-f44d-95b90916de3e"
      },
      "execution_count": null,
      "outputs": [
        {
          "output_type": "stream",
          "name": "stdout",
          "text": [
            "159082113784260.12\n"
          ]
        }
      ]
    },
    {
      "cell_type": "markdown",
      "source": [
        "Tunning"
      ],
      "metadata": {
        "id": "Qmb4YpynW9jj"
      }
    },
    {
      "cell_type": "code",
      "source": [
        "scoresRF=[]\n",
        "for md in [2,10,50,100,500]:\n",
        "      est1 = RandomForestRegressor(random_state=21,max_depth=md)\n",
        "      est1.fit(X_train,y_train.values.ravel())\n",
        "      pred = est1.predict(X_test)\n",
        "      mse = np.sqrt(mean_squared_error(y_test.values.ravel(),pred))\n",
        "      scoresRF.append(mse)\n",
        "\n",
        "f = plt.figure(figsize=(12,3))\n",
        "f.subplots_adjust(wspace=0.5)\n",
        "\n",
        "\n",
        "ax1 = f.add_subplot(121)\n",
        "ax1.set_title('Cambiando max_depth')\n",
        "ax1.plot(range(5), scoresRF, c='red', label='RFR')\n",
        "ax1.set_xlabel('max_depth')\n",
        "ax1.set_ylabel('MSE')\n",
        "ax1.legend()\n",
        "\n",
        "scoresRF2=[]\n",
        "for md in [2,10,50,100,500]:\n",
        "      est1 = RandomForestRegressor(random_state=21, n_estimators=md)\n",
        "      est1.fit(X_train,y_train.values.ravel())\n",
        "      pred = est1.predict(X_test)\n",
        "      mse = np.sqrt(mean_squared_error(y_test.values.ravel(),pred))\n",
        "      scoresRF2.append(mse)\n",
        "\n",
        "ax2 = f.add_subplot(122)\n",
        "ax2.set_title('Cambiando n_estimators')\n",
        "ax2.plot(range(5), scoresRF2, c='blue', label='RFR')\n",
        "ax2.set_xlabel('n_estimators')\n",
        "ax2.set_ylabel('MSE')\n",
        "ax2.legend()\n"
      ],
      "metadata": {
        "colab": {
          "base_uri": "https://localhost:8080/",
          "height": 260
        },
        "id": "EkBVCI_zW29H",
        "outputId": "a1d41820-e5df-432a-ba71-6503212a059e"
      },
      "execution_count": null,
      "outputs": [
        {
          "output_type": "execute_result",
          "data": {
            "text/plain": [
              "<matplotlib.legend.Legend at 0x7ff93708fe80>"
            ]
          },
          "metadata": {},
          "execution_count": 105
        },
        {
          "output_type": "display_data",
          "data": {
            "text/plain": [
              "<Figure size 864x216 with 2 Axes>"
            ],
            "image/png": "[encoded data removed]"
          },
          "metadata": {
            "needs_background": "light"
          }
        }
      ]
    },
    {
      "cell_type": "markdown",
      "source": [
        "Cross Validation"
      ],
      "metadata": {
        "id": "fJ-Foo8AZsvB"
      }
    },
    {
      "cell_type": "code",
      "source": [
        "from sklearn.model_selection import KFold\n",
        "from sklearn.model_selection import cross_val_score\n",
        "\n",
        "est = RandomForestRegressor()\n",
        "\n",
        "s = cross_val_score(est, X, y.values.ravel(), cv=KFold(100, shuffle=True), scoring=make_scorer(mean_squared_error))\n",
        "print(\"accuracy %.3f (+/- %.5f)\"%(np.mean(s), np.std(s)))"
      ],
      "metadata": {
        "colab": {
          "base_uri": "https://localhost:8080/"
        },
        "id": "vIQtVceUZu0o",
        "outputId": "d99474e4-fd25-459b-d280-3f2207abf6df"
      },
      "execution_count": null,
      "outputs": [
        {
          "output_type": "stream",
          "name": "stdout",
          "text": [
            "accuracy 134357605282148.203 (+/- 238608053981478.81250)\n"
          ]
        }
      ]
    },
    {
      "cell_type": "markdown",
      "source": [
        "Tunning"
      ],
      "metadata": {
        "id": "1H6epmGdaByH"
      }
    },
    {
      "cell_type": "code",
      "source": [
        "scoresRF=[]\n",
        "for md in [2,10,50,100,500]:\n",
        "      est1 = RandomForestRegressor(random_state=21,max_depth=md)\n",
        "      s = cross_val_score(est1, X, y.values.ravel(), cv=KFold(100, shuffle=True), scoring=make_scorer(mean_squared_error))\n",
        "      scoresRF.append(np.mean(s))\n",
        "\n",
        "f = plt.figure(figsize=(12,3))\n",
        "f.subplots_adjust(wspace=0.5)\n",
        "\n",
        "\n",
        "ax1 = f.add_subplot(121)\n",
        "ax1.set_title('Cambiando max_depth')\n",
        "ax1.plot(range(5), scoresRF, c='red', label='RFR')\n",
        "ax1.set_xlabel('max_depth')\n",
        "ax1.set_ylabel('MSE')\n",
        "ax1.legend()\n",
        "\n",
        "scoresRF2=[]\n",
        "for md in [2,10,50,100,500]:\n",
        "      est1 = RandomForestRegressor(random_state=21,n_estimators=md)\n",
        "      s = cross_val_score(est1, X, y.values.ravel(), cv=KFold(100, shuffle=True), scoring=make_scorer(mean_squared_error))\n",
        "      scoresRF2.append(np.mean(s))\n",
        "\n",
        "ax2 = f.add_subplot(122)\n",
        "ax2.set_title('Cambiando n_estimators')\n",
        "ax2.plot(range(5), scoresRF2, c='blue', label='RFR')\n",
        "ax2.set_xlabel('n_estimators')\n",
        "ax2.set_ylabel('MSE')\n",
        "ax2.legend()"
      ],
      "metadata": {
        "colab": {
          "base_uri": "https://localhost:8080/",
          "height": 260
        },
        "id": "-l0Lf7gIaDJ4",
        "outputId": "ea9d9cd0-2330-458a-c885-a196c50d7286"
      },
      "execution_count": null,
      "outputs": [
        {
          "output_type": "execute_result",
          "data": {
            "text/plain": [
              "<matplotlib.legend.Legend at 0x7ff937574640>"
            ]
          },
          "metadata": {},
          "execution_count": 103
        },
        {
          "output_type": "display_data",
          "data": {
            "text/plain": [
              "<Figure size 864x216 with 2 Axes>"
            ],
            "image/png": "[encoded data removed]"
          },
          "metadata": {
            "needs_background": "light"
          }
        }
      ]
    },
    {
      "cell_type": "markdown",
      "source": [
        "# Support Vectorial Regressor <a name=\"SVR\"></a>"
      ],
      "metadata": {
        "id": "cZfxDOJZ07Eq"
      }
    },
    {
      "cell_type": "code",
      "source": [
        "from sklearn.svm import SVR\n",
        "from sklearn.model_selection import train_test_split\n",
        "from sklearn.metrics import make_scorer, mean_squared_error\n",
        "\n",
        "data = X\n",
        "data_y = y\n",
        "X_train, X_test, y_train, y_test = train_test_split(data,data_y,test_size=0.1,shuffle=True)\n",
        "scores = []\n",
        "kernels = ['linear', 'poly', 'rbf']\n",
        "for i in kernels:\n",
        "  est = SVR(kernel=i)\n",
        "  est.fit(X_train,y_train)\n",
        "  pred = est.predict(X_test)\n",
        "  mse = mean_squared_error(y_test,pred)\n",
        "  scores.append(mse)\n",
        "\n",
        "f = plt.figure(figsize=(30,5))\n",
        "f.subplots_adjust(wspace=0.5)\n",
        "ax1 = f.add_subplot(121)\n",
        "ax1.set_title('Kernels utilizados')\n",
        "ax1.bar(range(0,len(scores)), scores)\n",
        "ax1.set_xticks(range(0,len(scores)))\n",
        "ax1.set_xticklabels(('linear', 'poly', 'rbf'))\n",
        "ax1.set_ylabel('MSE')\n",
        "ax1.text(-0.28, 3.5, str(scores[0])[:8])\n",
        "ax1.text(0.72, 3.5, str(scores[1])[:8])\n",
        "ax1.text(1.72, 3.5, str(scores[2])[:8])"
      ],
      "metadata": {
        "colab": {
          "base_uri": "https://localhost:8080/",
          "height": 458
        },
        "id": "469cHgJBjfWM",
        "outputId": "0fc3b828-3e0d-4035-ef20-08e69a3328cb"
      },
      "execution_count": 21,
      "outputs": [
        {
          "output_type": "stream",
          "name": "stderr",
          "text": [
            "/usr/local/lib/python3.8/dist-packages/sklearn/utils/validation.py:993: DataConversionWarning: A column-vector y was passed when a 1d array was expected. Please change the shape of y to (n_samples, ), for example using ravel().\n",
            "  y = column_or_1d(y, warn=True)\n",
            "/usr/local/lib/python3.8/dist-packages/sklearn/utils/validation.py:993: DataConversionWarning: A column-vector y was passed when a 1d array was expected. Please change the shape of y to (n_samples, ), for example using ravel().\n",
            "  y = column_or_1d(y, warn=True)\n",
            "/usr/local/lib/python3.8/dist-packages/sklearn/utils/validation.py:993: DataConversionWarning: A column-vector y was passed when a 1d array was expected. Please change the shape of y to (n_samples, ), for example using ravel().\n",
            "  y = column_or_1d(y, warn=True)\n"
          ]
        },
        {
          "output_type": "execute_result",
          "data": {
            "text/plain": [
              "Text(1.72, 3.5, '35043371')"
            ]
          },
          "metadata": {},
          "execution_count": 21
        },
        {
          "output_type": "display_data",
          "data": {
            "text/plain": [
              "<Figure size 2160x360 with 1 Axes>"
            ],
            "image/png": "[encoded data removed]"
          },
          "metadata": {
            "needs_background": "light"
          }
        }
      ]
    }
  ]
}